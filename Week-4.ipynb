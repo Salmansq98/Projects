{
 "cells": [
  {
   "cell_type": "markdown",
   "metadata": {},
   "source": [
    "In this week we'll be using real world images.( I'll be classifying cars vs bicycle)."
   ]
  },
  {
   "cell_type": "code",
   "execution_count": 1,
   "metadata": {},
   "outputs": [],
   "source": [
    "import tensorflow as tf"
   ]
  },
  {
   "cell_type": "markdown",
   "metadata": {},
   "source": [
    "Creating, Compiling the model. while compiling i have used different loss = 'binary_crossentropy' (since we're classifying car and bicycle) and optimizer as \"SGD\" with a learning rate of 0.001 which is very small."
   ]
  },
  {
   "cell_type": "code",
   "execution_count": 2,
   "metadata": {},
   "outputs": [],
   "source": [
    "model = tf.keras.models.Sequential([\n",
    "    # Note the input shape is the desired size of the image 400x400 with 3 bytes color\n",
    "    # This is the first convolution\n",
    "    tf.keras.layers.Conv2D(16, (3,3), activation='relu', input_shape=(400, 400, 3)),\n",
    "    tf.keras.layers.MaxPooling2D(2, 2),\n",
    "    # The second convolution\n",
    "    tf.keras.layers.Conv2D(32, (3,3), activation='relu'),\n",
    "    tf.keras.layers.MaxPooling2D(2,2),\n",
    "    # The third convolution\n",
    "    tf.keras.layers.Conv2D(64, (3,3), activation='relu'),\n",
    "    tf.keras.layers.MaxPooling2D(2,2),\n",
    "    # The fourth convolution\n",
    "    tf.keras.layers.Conv2D(64, (3,3), activation='relu'),\n",
    "    tf.keras.layers.MaxPooling2D(2,2),\n",
    "    # The fifth convolution\n",
    "    tf.keras.layers.Conv2D(64, (3,3), activation='relu'),\n",
    "    tf.keras.layers.MaxPooling2D(2,2),\n",
    "    # Flatten the results to feed into a DNN\n",
    "    tf.keras.layers.Flatten(),\n",
    "    # 512 neuron hidden layer\n",
    "    tf.keras.layers.Dense(512, activation='relu'),\n",
    "    # Only 1 output neuron. It will contain a value from 0-1 where 0 for 1 class ('horses') and 1 for the other ('humans')\n",
    "    tf.keras.layers.Dense(1, activation='sigmoid')\n",
    "])"
   ]
  },
  {
   "cell_type": "code",
   "execution_count": 3,
   "metadata": {},
   "outputs": [],
   "source": [
    "model.compile(optimizer=tf.keras.optimizers.SGD(lr=0.001),\n",
    "             loss='binary_crossentropy',\n",
    "             metrics=['accuracy'])"
   ]
  },
  {
   "cell_type": "markdown",
   "metadata": {},
   "source": [
    "Getting the images."
   ]
  },
  {
   "cell_type": "markdown",
   "metadata": {},
   "source": [
    "ImageDataGenerator: ```1)It helps us to preprocess the images.``` ```2) It also helps for Data Augumation.```"
   ]
  },
  {
   "cell_type": "code",
   "execution_count": 11,
   "metadata": {},
   "outputs": [
    {
     "name": "stdout",
     "output_type": "stream",
     "text": [
      "Found 42 images belonging to 2 classes.\n",
      "Found 42 images belonging to 2 classes.\n"
     ]
    }
   ],
   "source": [
    "from tensorflow.keras.preprocessing.image import ImageDataGenerator\n",
    "\n",
    "# (snd method for normalizing the images.) scaling the images by 1/255.\n",
    "train_datagen = ImageDataGenerator(rescale=1/255)\n",
    "validation_datagen = ImageDataGenerator(rescale = 1/255)\n",
    "\n",
    "# extract the images from file.\n",
    "train_generator = train_datagen.flow_from_directory('D:/train_folder/', # file path of training images.\n",
    "                                                   target_size = (400, 400), #below is the explaination.\n",
    "                                                   class_mode='binary',\n",
    "                                                   batch_size=7) \n",
    "# Since we use binary_crossentropy loss, we need binary labels.\n",
    "# target_size = changing the image size to requried size.\n",
    "\n",
    "validation_generator = validation_datagen.flow_from_directory('D:/test_folder/',\n",
    "                                                              target_size=(400,400),\n",
    "                                                              batch_size=3,\n",
    "                                                             class_mode='binary')"
   ]
  },
  {
   "cell_type": "markdown",
   "metadata": {},
   "source": [
    "```Vital point:``` When you are using generator, you have to specify \"steps_per_epoch\". what it does is, it will cover 8 times the batch_size( per epoch should cover the batch_size of 7(for training) or 3(for test) for about 1 time). Same notion applies for validation(since, its a validation, you have to specifiy validation_steps)."
   ]
  },
  {
   "cell_type": "markdown",
   "metadata": {},
   "source": [
    "fit_generator is deprecated in tensorflow 2.0 (fit method)"
   ]
  },
  {
   "cell_type": "code",
   "execution_count": 23,
   "metadata": {
    "scrolled": false
   },
   "outputs": [
    {
     "name": "stdout",
     "output_type": "stream",
     "text": [
      "WARNING:tensorflow:sample_weight modes were coerced from\n",
      "  ...\n",
      "    to  \n",
      "  ['...']\n",
      "WARNING:tensorflow:sample_weight modes were coerced from\n",
      "  ...\n",
      "    to  \n",
      "  ['...']\n",
      "Train for 1 steps, validate for 1 steps\n",
      "Epoch 1/7\n",
      "1/1 [==============================] - 3s 3s/step - loss: 0.6471 - accuracy: 0.7143 - val_loss: 0.7049 - val_accuracy: 0.3333\n",
      "Epoch 2/7\n",
      "1/1 [==============================] - 4s 4s/step - loss: 0.6680 - accuracy: 0.4286 - val_loss: 0.7049 - val_accuracy: 0.3333\n",
      "Epoch 3/7\n",
      "1/1 [==============================] - 6s 6s/step - loss: 0.6437 - accuracy: 0.7143 - val_loss: 0.7059 - val_accuracy: 0.3333\n",
      "Epoch 4/7\n",
      "1/1 [==============================] - 4s 4s/step - loss: 0.6932 - accuracy: 0.1429 - val_loss: 0.7049 - val_accuracy: 0.3333\n",
      "Epoch 5/7\n",
      "1/1 [==============================] - 7s 7s/step - loss: 0.6915 - accuracy: 0.1429 - val_loss: 0.7039 - val_accuracy: 0.3333\n",
      "Epoch 6/7\n",
      "1/1 [==============================] - 4s 4s/step - loss: 0.6435 - accuracy: 0.7143 - val_loss: 0.7049 - val_accuracy: 0.3333\n",
      "Epoch 7/7\n",
      "1/1 [==============================] - 4s 4s/step - loss: 0.6412 - accuracy: 0.7143 - val_loss: 0.7058 - val_accuracy: 0.3333\n"
     ]
    }
   ],
   "source": [
    "# training the model and saving it in history.\n",
    "\n",
    "history = model.fit(train_generator, #training images.\n",
    "                    epochs=7,#Train it for 10 epochs.\n",
    "                    steps_per_epoch = 1,\n",
    "                     \n",
    "                    verbose=1, # I want progress\n",
    "                    \n",
    "                    validation_data = validation_generator, # validaion_data\n",
    "                    \n",
    "                    validation_steps=1\n",
    "                   )"
   ]
  },
  {
   "cell_type": "code",
   "execution_count": 30,
   "metadata": {},
   "outputs": [],
   "source": [
    "#importing image module.\n",
    "from tensorflow.keras.preprocessing import image\n",
    "import numpy as np\n",
    "img_path = 'D:/ferrari.jpg'\n",
    "\n",
    "# loading the image by specifying target_size\n",
    "img = image.load_img(img_path, target_size = (400, 400))\n",
    "\n",
    "x = image.img_to_array(img) # taking the image converting into an array.\n",
    "x = np.expand_dims(x, axis=0) # expanding the axis by specifying the axis."
   ]
  },
  {
   "cell_type": "markdown",
   "metadata": {},
   "source": [
    "Predicting the image."
   ]
  },
  {
   "cell_type": "code",
   "execution_count": 37,
   "metadata": {},
   "outputs": [
    {
     "name": "stdout",
     "output_type": "stream",
     "text": [
      "0.99999535 its a car\n"
     ]
    }
   ],
   "source": [
    "classes = model.predict(x)\n",
    "if( classes > 0.5):\n",
    "    string = str(classes[0][0])\n",
    "    print(f'{string} its a car')\n",
    "else:\n",
    "    print(f'its bicycle')"
   ]
  }
 ],
 "metadata": {
  "kernelspec": {
   "display_name": "Python 3",
   "language": "python",
   "name": "python3"
  },
  "language_info": {
   "codemirror_mode": {
    "name": "ipython",
    "version": 3
   },
   "file_extension": ".py",
   "mimetype": "text/x-python",
   "name": "python",
   "nbconvert_exporter": "python",
   "pygments_lexer": "ipython3",
   "version": "3.7.3"
  }
 },
 "nbformat": 4,
 "nbformat_minor": 2
}
